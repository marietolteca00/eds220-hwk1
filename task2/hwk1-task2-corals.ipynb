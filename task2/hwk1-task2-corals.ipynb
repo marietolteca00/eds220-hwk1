{
 "cells": [
  {
   "cell_type": "code",
   "execution_count": 25,
   "metadata": {
    "deletable": false,
    "editable": false,
    "tags": []
   },
   "outputs": [],
   "source": [
    "# Initialize Otter\n",
    "import otter\n",
    "grader = otter.Notebook(\"hwk1-task2-corals.ipynb\")"
   ]
  },
  {
   "cell_type": "markdown",
   "metadata": {},
   "source": [
    "# Task 2: Exploring coral diversity data\n",
    "\n",
    "## Instructions \n",
    "\n",
    "- First, update the following cell to have a link to *your* Homework 1 GitHub repository:\n"
   ]
  },
  {
   "cell_type": "markdown",
   "metadata": {},
   "source": [
    "**UPDATE THIS LINK:**\n",
    "\n",
    "https://github.com/marietolteca00/eds220-hwk1.git"
   ]
  },
  {
   "cell_type": "markdown",
   "metadata": {},
   "source": [
    "- This task covers topics on the lesson on [subsetting `pandas.DataFrames`](https://meds-eds-220.github.io/MEDS-eds-220-course/book/chapters/lesson-3-pandas-subsetting/lesson-3-pandas-subsetting.html). The best strategy to solve it is to get together with your classmates and work on it together after that lecture.\n",
    "\n",
    "- Review the [complete rubric for this task](https://docs.google.com/document/d/131OnUDOLpOl94SlaMU9nGqT998ABrjFS/edit?usp=sharing&ouid=111507336322611936333&rtpof=true&sd=true) before starting.\n",
    "\n",
    "- **Make at least 5 commits at moments you think are adequate.** We'll check your repository and view the commit history.\n",
    "\n",
    "- **Add comments for all your code.** Err on the side of commenting too much for now. Comments should follow best practices.\n",
    "\n"
   ]
  },
  {
   "cell_type": "markdown",
   "metadata": {
    "deletable": false,
    "editable": false
   },
   "source": [
    "<!-- BEGIN QUESTION -->\n",
    "\n",
    "\n",
    "## 1\n",
    "For this task we are going to use data about  [Western Indian Ocean Coral Diversity (McClanahan, 2023)](https://knb.ecoinformatics.org/view/doi%3A10.5063%2FF1K35S3H) from the Knowledge Network for Biocomplexity (KNB) data repository. \n",
    "\n",
    "a. Navigate to the dataset's link and explore the data package. \n",
    " \n",
    "b. Use the next markdown cell to add a brief description of the dataset, including a citation, date of access, and a link to the archive. \n"
   ]
  },
  {
   "cell_type": "markdown",
   "metadata": {
    "tags": [
     "otter_answer_cell"
    ]
   },
   "source": [
    "This dataset explores coral reef being threatend by climate change, with effective policies and management requires spatial prioritization for conservation investments.\n",
    "- **Citation**: Tim McClanahan. (2023). Western Indian Ocean Coral Diversity. Knowledge Network for Biocomplexity. doi:10.5063/F1K35S3H.\n",
    "- **Date of access** Year 2023\n",
    "- **link to archive** https://doi.org/10.5063/F1K35S3Hl"
   ]
  },
  {
   "cell_type": "markdown",
   "metadata": {
    "deletable": false,
    "editable": false
   },
   "source": [
    "<!-- END QUESTION -->\n",
    "\n",
    "<!-- BEGIN QUESTION -->\n",
    "\n",
    "## 2\n",
    "In the next code cell, import the `pandas` package using standard abbreviation in a code cell.\n",
    "\n",
    "Read in the data from the URL using the `pd.read_csv` function and store it as `coral_div` like this:\n",
    "\n",
    "```\n",
    "# read in data\n",
    "coral_div = pd.read_csv('the URL goes here')\n",
    "```"
   ]
  },
  {
   "cell_type": "code",
   "execution_count": 110,
   "metadata": {
    "scrolled": true,
    "tags": [
     "otter_answer_cell"
    ]
   },
   "outputs": [],
   "source": [
    "import pandas as pd\n",
    "# importating data into variable\n",
    "coral_div = pd.read_csv('data/coral_data.csv')"
   ]
  },
  {
   "cell_type": "markdown",
   "metadata": {
    "deletable": false,
    "editable": false
   },
   "source": [
    "<!-- END QUESTION -->\n",
    "\n",
    "## 3\n",
    "\n",
    "Use attributes and methods of the `coral_div` data frame to obtain the following information about it:\n",
    "\n",
    "Use the code cells marked a-e. For each, add a comment explaining what is the ouput."
   ]
  },
  {
   "cell_type": "markdown",
   "metadata": {
    "deletable": false,
    "editable": false
   },
   "source": [
    "a. how many rows and columns does it have? Store your answers in the `rows` and `columns` variables. "
   ]
  },
  {
   "cell_type": "code",
   "execution_count": 27,
   "metadata": {
    "tags": [
     "otter_answer_cell"
    ]
   },
   "outputs": [],
   "source": [
    "#a\n",
    "rows = coral_div.shape[0]\n",
    "columns = coral_div.shape[1]"
   ]
  },
  {
   "cell_type": "code",
   "execution_count": 28,
   "metadata": {
    "deletable": false,
    "editable": false,
    "tags": []
   },
   "outputs": [
    {
     "data": {
      "text/html": [
       "<p><strong><pre style='display: inline;'>q3_a</pre></strong> passed! 🌈</p>"
      ],
      "text/plain": [
       "q3_a results: All test cases passed!"
      ]
     },
     "execution_count": 28,
     "metadata": {},
     "output_type": "execute_result"
    }
   ],
   "source": [
    "grader.check(\"q3_a\")"
   ]
  },
  {
   "cell_type": "markdown",
   "metadata": {
    "deletable": false,
    "editable": false
   },
   "source": [
    "b. What are the column names? Store your answer in the `coral_div_columns` variable."
   ]
  },
  {
   "cell_type": "code",
   "execution_count": 29,
   "metadata": {
    "tags": [
     "otter_answer_cell"
    ]
   },
   "outputs": [],
   "source": [
    "#b\n",
    "coral_div_columns = list(coral_div)"
   ]
  },
  {
   "cell_type": "code",
   "execution_count": 30,
   "metadata": {
    "deletable": false,
    "editable": false,
    "tags": []
   },
   "outputs": [
    {
     "data": {
      "text/html": [
       "<p><strong><pre style='display: inline;'>q3_b</pre></strong> passed! 🌟</p>"
      ],
      "text/plain": [
       "q3_b results: All test cases passed!"
      ]
     },
     "execution_count": 30,
     "metadata": {},
     "output_type": "execute_result"
    }
   ],
   "source": [
    "grader.check(\"q3_b\")"
   ]
  },
  {
   "cell_type": "markdown",
   "metadata": {
    "deletable": false,
    "editable": false
   },
   "source": [
    "c. what are the data types of the columns? Store your answer in the `coral_div_types`."
   ]
  },
  {
   "cell_type": "code",
   "execution_count": 34,
   "metadata": {
    "tags": [
     "otter_answer_cell"
    ]
   },
   "outputs": [],
   "source": [
    "#c\n",
    "coral_div_types = coral_div.dtypes"
   ]
  },
  {
   "cell_type": "code",
   "execution_count": 35,
   "metadata": {
    "deletable": false,
    "editable": false,
    "tags": []
   },
   "outputs": [
    {
     "data": {
      "text/html": [
       "<p><strong><pre style='display: inline;'>q3_c</pre></strong> passed! 💯</p>"
      ],
      "text/plain": [
       "q3_c results: All test cases passed!"
      ]
     },
     "execution_count": 35,
     "metadata": {},
     "output_type": "execute_result"
    }
   ],
   "source": [
    "grader.check(\"q3_c\")"
   ]
  },
  {
   "cell_type": "markdown",
   "metadata": {
    "deletable": false,
    "editable": false
   },
   "source": [
    "d. display the first 8 rows with all the column names. For this one, you will need to udpate a `pandas` option (HINT: check the first discussion section). Store your answer in the `first_8_rows` variable."
   ]
  },
  {
   "cell_type": "code",
   "execution_count": 40,
   "metadata": {
    "tags": [
     "otter_answer_cell"
    ]
   },
   "outputs": [],
   "source": [
    "#d\n",
    "# To remove the three dots inbetween the columns\n",
    "pd.set_option(\"display.max.columns\", None)\n",
    "\n",
    "\n",
    "first_8_rows = coral_div.head(8)"
   ]
  },
  {
   "cell_type": "code",
   "execution_count": 41,
   "metadata": {
    "tags": [
     "otter_answer_cell"
    ]
   },
   "outputs": [
    {
     "data": {
      "text/html": [
       "<div>\n",
       "<style scoped>\n",
       "    .dataframe tbody tr th:only-of-type {\n",
       "        vertical-align: middle;\n",
       "    }\n",
       "\n",
       "    .dataframe tbody tr th {\n",
       "        vertical-align: top;\n",
       "    }\n",
       "\n",
       "    .dataframe thead th {\n",
       "        text-align: right;\n",
       "    }\n",
       "</style>\n",
       "<table border=\"1\" class=\"dataframe\">\n",
       "  <thead>\n",
       "    <tr style=\"text-align: right;\">\n",
       "      <th></th>\n",
       "      <th>PU_ID</th>\n",
       "      <th>PU_Lat</th>\n",
       "      <th>PU_Lon</th>\n",
       "      <th>Number_of_genera</th>\n",
       "      <th>Country</th>\n",
       "      <th>Ecoregion</th>\n",
       "      <th>Management</th>\n",
       "      <th>Habitat</th>\n",
       "      <th>Observer</th>\n",
       "      <th>Depth</th>\n",
       "      <th>Coralcover</th>\n",
       "      <th>SSTRateofRise</th>\n",
       "      <th>PARmax</th>\n",
       "      <th>Calcite</th>\n",
       "      <th>Dis_oxygen</th>\n",
       "      <th>mean.waveNRJ</th>\n",
       "      <th>Salinity_mean</th>\n",
       "      <th>andrello_reef_value</th>\n",
       "      <th>andrello_nutrients</th>\n",
       "      <th>mean.npp</th>\n",
       "      <th>TT_market_hrs</th>\n",
       "      <th>TT_pop_hrs</th>\n",
       "      <th>cumDHW</th>\n",
       "      <th>SST_Kurtosis</th>\n",
       "      <th>SST_Median</th>\n",
       "      <th>ChlorA_median</th>\n",
       "      <th>andrello_sediments</th>\n",
       "      <th>Current_vel_mean</th>\n",
       "      <th>Diff_attenuation</th>\n",
       "      <th>Grav_NP</th>\n",
       "      <th>Grav_NC</th>\n",
       "      <th>PH</th>\n",
       "      <th>SST_bimodality</th>\n",
       "      <th>SST_Skewness</th>\n",
       "      <th>ClimateStressModel</th>\n",
       "      <th>Netflow</th>\n",
       "      <th>Indegree</th>\n",
       "      <th>Outdegree</th>\n",
       "      <th>Retention</th>\n",
       "      <th>min_yr</th>\n",
       "      <th>max_yr</th>\n",
       "      <th>no_replicates</th>\n",
       "    </tr>\n",
       "  </thead>\n",
       "  <tbody>\n",
       "    <tr>\n",
       "      <th>0</th>\n",
       "      <td>7</td>\n",
       "      <td>39.076711</td>\n",
       "      <td>-5.490011</td>\n",
       "      <td>35</td>\n",
       "      <td>Tanzania</td>\n",
       "      <td>East African Coral Coast</td>\n",
       "      <td>UnfishedLow</td>\n",
       "      <td>Crest</td>\n",
       "      <td>Tim</td>\n",
       "      <td>11.0</td>\n",
       "      <td>45</td>\n",
       "      <td>0.019214</td>\n",
       "      <td>54.747001</td>\n",
       "      <td>0.001075</td>\n",
       "      <td>4.7495</td>\n",
       "      <td>3.714321</td>\n",
       "      <td>35.167646</td>\n",
       "      <td>0</td>\n",
       "      <td>8.388602</td>\n",
       "      <td>1139.112671</td>\n",
       "      <td>1.383333</td>\n",
       "      <td>0.366667</td>\n",
       "      <td>24.133263</td>\n",
       "      <td>-0.803330</td>\n",
       "      <td>27.435</td>\n",
       "      <td>0.465182</td>\n",
       "      <td>53540.007810</td>\n",
       "      <td>0.541991</td>\n",
       "      <td>0.09475</td>\n",
       "      <td>0.008503</td>\n",
       "      <td>32.387920</td>\n",
       "      <td>8.2175</td>\n",
       "      <td>0.462556</td>\n",
       "      <td>-0.128136</td>\n",
       "      <td>0.596375</td>\n",
       "      <td>0.144498</td>\n",
       "      <td>98.25</td>\n",
       "      <td>74.75</td>\n",
       "      <td>14.00</td>\n",
       "      <td>2019</td>\n",
       "      <td>2019</td>\n",
       "      <td>1</td>\n",
       "    </tr>\n",
       "    <tr>\n",
       "      <th>1</th>\n",
       "      <td>7</td>\n",
       "      <td>39.076711</td>\n",
       "      <td>-5.490011</td>\n",
       "      <td>22</td>\n",
       "      <td>Tanzania</td>\n",
       "      <td>East African Coral Coast</td>\n",
       "      <td>UnfishedLow</td>\n",
       "      <td>Lagoon/Back reef</td>\n",
       "      <td>Nyawira</td>\n",
       "      <td>2.0</td>\n",
       "      <td>45</td>\n",
       "      <td>0.019214</td>\n",
       "      <td>54.747001</td>\n",
       "      <td>0.001075</td>\n",
       "      <td>4.7495</td>\n",
       "      <td>3.714321</td>\n",
       "      <td>35.167646</td>\n",
       "      <td>0</td>\n",
       "      <td>8.388602</td>\n",
       "      <td>1139.112671</td>\n",
       "      <td>1.383333</td>\n",
       "      <td>0.366667</td>\n",
       "      <td>24.133263</td>\n",
       "      <td>-0.803330</td>\n",
       "      <td>27.435</td>\n",
       "      <td>0.465182</td>\n",
       "      <td>53540.007810</td>\n",
       "      <td>0.541991</td>\n",
       "      <td>0.09475</td>\n",
       "      <td>0.008503</td>\n",
       "      <td>32.387920</td>\n",
       "      <td>8.2175</td>\n",
       "      <td>0.462556</td>\n",
       "      <td>-0.128136</td>\n",
       "      <td>0.596375</td>\n",
       "      <td>0.144498</td>\n",
       "      <td>98.25</td>\n",
       "      <td>74.75</td>\n",
       "      <td>14.00</td>\n",
       "      <td>2010</td>\n",
       "      <td>2015</td>\n",
       "      <td>2</td>\n",
       "    </tr>\n",
       "    <tr>\n",
       "      <th>2</th>\n",
       "      <td>7</td>\n",
       "      <td>39.076711</td>\n",
       "      <td>-5.490011</td>\n",
       "      <td>25</td>\n",
       "      <td>Tanzania</td>\n",
       "      <td>East African Coral Coast</td>\n",
       "      <td>UnfishedLow</td>\n",
       "      <td>Slope</td>\n",
       "      <td>Nyawira</td>\n",
       "      <td>4.0</td>\n",
       "      <td>45</td>\n",
       "      <td>0.019214</td>\n",
       "      <td>54.747001</td>\n",
       "      <td>0.001075</td>\n",
       "      <td>4.7495</td>\n",
       "      <td>3.714321</td>\n",
       "      <td>35.167646</td>\n",
       "      <td>0</td>\n",
       "      <td>8.388602</td>\n",
       "      <td>1139.112671</td>\n",
       "      <td>1.383333</td>\n",
       "      <td>0.366667</td>\n",
       "      <td>24.133263</td>\n",
       "      <td>-0.803330</td>\n",
       "      <td>27.435</td>\n",
       "      <td>0.465182</td>\n",
       "      <td>53540.007810</td>\n",
       "      <td>0.541991</td>\n",
       "      <td>0.09475</td>\n",
       "      <td>0.008503</td>\n",
       "      <td>32.387920</td>\n",
       "      <td>8.2175</td>\n",
       "      <td>0.462556</td>\n",
       "      <td>-0.128136</td>\n",
       "      <td>0.596375</td>\n",
       "      <td>0.144498</td>\n",
       "      <td>98.25</td>\n",
       "      <td>74.75</td>\n",
       "      <td>14.00</td>\n",
       "      <td>2015</td>\n",
       "      <td>2015</td>\n",
       "      <td>1</td>\n",
       "    </tr>\n",
       "    <tr>\n",
       "      <th>3</th>\n",
       "      <td>7</td>\n",
       "      <td>39.076711</td>\n",
       "      <td>-5.490011</td>\n",
       "      <td>26</td>\n",
       "      <td>Tanzania</td>\n",
       "      <td>East African Coral Coast</td>\n",
       "      <td>UnfishedLow</td>\n",
       "      <td>Slope</td>\n",
       "      <td>Nyawira</td>\n",
       "      <td>3.0</td>\n",
       "      <td>45</td>\n",
       "      <td>0.019214</td>\n",
       "      <td>54.747001</td>\n",
       "      <td>0.001075</td>\n",
       "      <td>4.7495</td>\n",
       "      <td>3.714321</td>\n",
       "      <td>35.167646</td>\n",
       "      <td>0</td>\n",
       "      <td>8.388602</td>\n",
       "      <td>1139.112671</td>\n",
       "      <td>1.383333</td>\n",
       "      <td>0.366667</td>\n",
       "      <td>24.133263</td>\n",
       "      <td>-0.803330</td>\n",
       "      <td>27.435</td>\n",
       "      <td>0.465182</td>\n",
       "      <td>53540.007810</td>\n",
       "      <td>0.541991</td>\n",
       "      <td>0.09475</td>\n",
       "      <td>0.008503</td>\n",
       "      <td>32.387920</td>\n",
       "      <td>8.2175</td>\n",
       "      <td>0.462556</td>\n",
       "      <td>-0.128136</td>\n",
       "      <td>0.596375</td>\n",
       "      <td>0.144498</td>\n",
       "      <td>98.25</td>\n",
       "      <td>74.75</td>\n",
       "      <td>14.00</td>\n",
       "      <td>2016</td>\n",
       "      <td>2019</td>\n",
       "      <td>2</td>\n",
       "    </tr>\n",
       "    <tr>\n",
       "      <th>4</th>\n",
       "      <td>10</td>\n",
       "      <td>39.054253</td>\n",
       "      <td>-5.512514</td>\n",
       "      <td>27</td>\n",
       "      <td>Tanzania</td>\n",
       "      <td>East African Coral Coast</td>\n",
       "      <td>UnfishedLow</td>\n",
       "      <td>Lagoon/Back reef</td>\n",
       "      <td>Nyawira</td>\n",
       "      <td>1.5</td>\n",
       "      <td>48</td>\n",
       "      <td>0.020051</td>\n",
       "      <td>55.395000</td>\n",
       "      <td>0.001747</td>\n",
       "      <td>4.7510</td>\n",
       "      <td>3.270938</td>\n",
       "      <td>35.102688</td>\n",
       "      <td>0</td>\n",
       "      <td>6.731860</td>\n",
       "      <td>1126.355957</td>\n",
       "      <td>1.383333</td>\n",
       "      <td>0.366667</td>\n",
       "      <td>25.342901</td>\n",
       "      <td>-0.793681</td>\n",
       "      <td>27.455</td>\n",
       "      <td>0.700521</td>\n",
       "      <td>38477.105470</td>\n",
       "      <td>0.690454</td>\n",
       "      <td>0.11400</td>\n",
       "      <td>0.008503</td>\n",
       "      <td>32.387920</td>\n",
       "      <td>8.2180</td>\n",
       "      <td>0.461297</td>\n",
       "      <td>-0.134548</td>\n",
       "      <td>0.629000</td>\n",
       "      <td>0.011721</td>\n",
       "      <td>112.75</td>\n",
       "      <td>51.50</td>\n",
       "      <td>183.75</td>\n",
       "      <td>2010</td>\n",
       "      <td>2019</td>\n",
       "      <td>3</td>\n",
       "    </tr>\n",
       "    <tr>\n",
       "      <th>5</th>\n",
       "      <td>10</td>\n",
       "      <td>39.054253</td>\n",
       "      <td>-5.512514</td>\n",
       "      <td>29</td>\n",
       "      <td>Tanzania</td>\n",
       "      <td>East African Coral Coast</td>\n",
       "      <td>UnfishedLow</td>\n",
       "      <td>Lagoon/Back reef</td>\n",
       "      <td>Tim</td>\n",
       "      <td>1.5</td>\n",
       "      <td>48</td>\n",
       "      <td>0.020051</td>\n",
       "      <td>55.395000</td>\n",
       "      <td>0.001747</td>\n",
       "      <td>4.7510</td>\n",
       "      <td>3.270938</td>\n",
       "      <td>35.102688</td>\n",
       "      <td>0</td>\n",
       "      <td>6.731860</td>\n",
       "      <td>1126.355957</td>\n",
       "      <td>1.383333</td>\n",
       "      <td>0.366667</td>\n",
       "      <td>25.342901</td>\n",
       "      <td>-0.793681</td>\n",
       "      <td>27.455</td>\n",
       "      <td>0.700521</td>\n",
       "      <td>38477.105470</td>\n",
       "      <td>0.690454</td>\n",
       "      <td>0.11400</td>\n",
       "      <td>0.008503</td>\n",
       "      <td>32.387920</td>\n",
       "      <td>8.2180</td>\n",
       "      <td>0.461297</td>\n",
       "      <td>-0.134548</td>\n",
       "      <td>0.629000</td>\n",
       "      <td>0.011721</td>\n",
       "      <td>112.75</td>\n",
       "      <td>51.50</td>\n",
       "      <td>183.75</td>\n",
       "      <td>2015</td>\n",
       "      <td>2015</td>\n",
       "      <td>1</td>\n",
       "    </tr>\n",
       "    <tr>\n",
       "      <th>6</th>\n",
       "      <td>15</td>\n",
       "      <td>39.054253</td>\n",
       "      <td>-5.535017</td>\n",
       "      <td>19</td>\n",
       "      <td>Tanzania</td>\n",
       "      <td>East African Coral Coast</td>\n",
       "      <td>Restricted</td>\n",
       "      <td>Crest</td>\n",
       "      <td>Tim</td>\n",
       "      <td>8.0</td>\n",
       "      <td>41</td>\n",
       "      <td>0.020051</td>\n",
       "      <td>55.395000</td>\n",
       "      <td>0.001747</td>\n",
       "      <td>4.7510</td>\n",
       "      <td>3.270938</td>\n",
       "      <td>35.102688</td>\n",
       "      <td>0</td>\n",
       "      <td>6.731860</td>\n",
       "      <td>1126.355957</td>\n",
       "      <td>1.383333</td>\n",
       "      <td>0.366667</td>\n",
       "      <td>25.342901</td>\n",
       "      <td>-0.793681</td>\n",
       "      <td>27.455</td>\n",
       "      <td>0.592692</td>\n",
       "      <td>38477.105470</td>\n",
       "      <td>0.690454</td>\n",
       "      <td>0.11400</td>\n",
       "      <td>0.008503</td>\n",
       "      <td>32.387920</td>\n",
       "      <td>8.2180</td>\n",
       "      <td>0.461297</td>\n",
       "      <td>-0.134548</td>\n",
       "      <td>0.595600</td>\n",
       "      <td>0.011721</td>\n",
       "      <td>112.75</td>\n",
       "      <td>51.50</td>\n",
       "      <td>183.75</td>\n",
       "      <td>2019</td>\n",
       "      <td>2019</td>\n",
       "      <td>1</td>\n",
       "    </tr>\n",
       "    <tr>\n",
       "      <th>7</th>\n",
       "      <td>39</td>\n",
       "      <td>39.009337</td>\n",
       "      <td>-5.647518</td>\n",
       "      <td>28</td>\n",
       "      <td>Tanzania</td>\n",
       "      <td>East African Coral Coast</td>\n",
       "      <td>UnfishedLow</td>\n",
       "      <td>Lagoon/Back reef</td>\n",
       "      <td>Nyawira</td>\n",
       "      <td>3.0</td>\n",
       "      <td>49</td>\n",
       "      <td>0.021358</td>\n",
       "      <td>54.935499</td>\n",
       "      <td>0.001744</td>\n",
       "      <td>4.7540</td>\n",
       "      <td>2.857747</td>\n",
       "      <td>35.106329</td>\n",
       "      <td>0</td>\n",
       "      <td>2.645199</td>\n",
       "      <td>1150.677856</td>\n",
       "      <td>1.783333</td>\n",
       "      <td>0.333333</td>\n",
       "      <td>30.265219</td>\n",
       "      <td>-0.795494</td>\n",
       "      <td>27.525</td>\n",
       "      <td>0.656533</td>\n",
       "      <td>3224.024414</td>\n",
       "      <td>0.561659</td>\n",
       "      <td>0.10500</td>\n",
       "      <td>0.512126</td>\n",
       "      <td>19.634828</td>\n",
       "      <td>8.2185</td>\n",
       "      <td>0.464874</td>\n",
       "      <td>-0.158601</td>\n",
       "      <td>0.626000</td>\n",
       "      <td>-0.063087</td>\n",
       "      <td>96.50</td>\n",
       "      <td>40.75</td>\n",
       "      <td>35.75</td>\n",
       "      <td>2015</td>\n",
       "      <td>2019</td>\n",
       "      <td>3</td>\n",
       "    </tr>\n",
       "  </tbody>\n",
       "</table>\n",
       "</div>"
      ],
      "text/plain": [
       "   PU_ID     PU_Lat    PU_Lon  Number_of_genera   Country  \\\n",
       "0      7  39.076711 -5.490011                35  Tanzania   \n",
       "1      7  39.076711 -5.490011                22  Tanzania   \n",
       "2      7  39.076711 -5.490011                25  Tanzania   \n",
       "3      7  39.076711 -5.490011                26  Tanzania   \n",
       "4     10  39.054253 -5.512514                27  Tanzania   \n",
       "5     10  39.054253 -5.512514                29  Tanzania   \n",
       "6     15  39.054253 -5.535017                19  Tanzania   \n",
       "7     39  39.009337 -5.647518                28  Tanzania   \n",
       "\n",
       "                  Ecoregion   Management           Habitat Observer  Depth  \\\n",
       "0  East African Coral Coast  UnfishedLow             Crest      Tim   11.0   \n",
       "1  East African Coral Coast  UnfishedLow  Lagoon/Back reef  Nyawira    2.0   \n",
       "2  East African Coral Coast  UnfishedLow             Slope  Nyawira    4.0   \n",
       "3  East African Coral Coast  UnfishedLow             Slope  Nyawira    3.0   \n",
       "4  East African Coral Coast  UnfishedLow  Lagoon/Back reef  Nyawira    1.5   \n",
       "5  East African Coral Coast  UnfishedLow  Lagoon/Back reef      Tim    1.5   \n",
       "6  East African Coral Coast   Restricted             Crest      Tim    8.0   \n",
       "7  East African Coral Coast  UnfishedLow  Lagoon/Back reef  Nyawira    3.0   \n",
       "\n",
       "   Coralcover  SSTRateofRise     PARmax   Calcite  Dis_oxygen  mean.waveNRJ  \\\n",
       "0          45       0.019214  54.747001  0.001075      4.7495      3.714321   \n",
       "1          45       0.019214  54.747001  0.001075      4.7495      3.714321   \n",
       "2          45       0.019214  54.747001  0.001075      4.7495      3.714321   \n",
       "3          45       0.019214  54.747001  0.001075      4.7495      3.714321   \n",
       "4          48       0.020051  55.395000  0.001747      4.7510      3.270938   \n",
       "5          48       0.020051  55.395000  0.001747      4.7510      3.270938   \n",
       "6          41       0.020051  55.395000  0.001747      4.7510      3.270938   \n",
       "7          49       0.021358  54.935499  0.001744      4.7540      2.857747   \n",
       "\n",
       "   Salinity_mean  andrello_reef_value  andrello_nutrients     mean.npp  \\\n",
       "0      35.167646                    0            8.388602  1139.112671   \n",
       "1      35.167646                    0            8.388602  1139.112671   \n",
       "2      35.167646                    0            8.388602  1139.112671   \n",
       "3      35.167646                    0            8.388602  1139.112671   \n",
       "4      35.102688                    0            6.731860  1126.355957   \n",
       "5      35.102688                    0            6.731860  1126.355957   \n",
       "6      35.102688                    0            6.731860  1126.355957   \n",
       "7      35.106329                    0            2.645199  1150.677856   \n",
       "\n",
       "   TT_market_hrs  TT_pop_hrs     cumDHW  SST_Kurtosis  SST_Median  \\\n",
       "0       1.383333    0.366667  24.133263     -0.803330      27.435   \n",
       "1       1.383333    0.366667  24.133263     -0.803330      27.435   \n",
       "2       1.383333    0.366667  24.133263     -0.803330      27.435   \n",
       "3       1.383333    0.366667  24.133263     -0.803330      27.435   \n",
       "4       1.383333    0.366667  25.342901     -0.793681      27.455   \n",
       "5       1.383333    0.366667  25.342901     -0.793681      27.455   \n",
       "6       1.383333    0.366667  25.342901     -0.793681      27.455   \n",
       "7       1.783333    0.333333  30.265219     -0.795494      27.525   \n",
       "\n",
       "   ChlorA_median  andrello_sediments  Current_vel_mean  Diff_attenuation  \\\n",
       "0       0.465182        53540.007810          0.541991           0.09475   \n",
       "1       0.465182        53540.007810          0.541991           0.09475   \n",
       "2       0.465182        53540.007810          0.541991           0.09475   \n",
       "3       0.465182        53540.007810          0.541991           0.09475   \n",
       "4       0.700521        38477.105470          0.690454           0.11400   \n",
       "5       0.700521        38477.105470          0.690454           0.11400   \n",
       "6       0.592692        38477.105470          0.690454           0.11400   \n",
       "7       0.656533         3224.024414          0.561659           0.10500   \n",
       "\n",
       "    Grav_NP    Grav_NC      PH  SST_bimodality  SST_Skewness  \\\n",
       "0  0.008503  32.387920  8.2175        0.462556     -0.128136   \n",
       "1  0.008503  32.387920  8.2175        0.462556     -0.128136   \n",
       "2  0.008503  32.387920  8.2175        0.462556     -0.128136   \n",
       "3  0.008503  32.387920  8.2175        0.462556     -0.128136   \n",
       "4  0.008503  32.387920  8.2180        0.461297     -0.134548   \n",
       "5  0.008503  32.387920  8.2180        0.461297     -0.134548   \n",
       "6  0.008503  32.387920  8.2180        0.461297     -0.134548   \n",
       "7  0.512126  19.634828  8.2185        0.464874     -0.158601   \n",
       "\n",
       "   ClimateStressModel   Netflow  Indegree  Outdegree  Retention  min_yr  \\\n",
       "0            0.596375  0.144498     98.25      74.75      14.00    2019   \n",
       "1            0.596375  0.144498     98.25      74.75      14.00    2010   \n",
       "2            0.596375  0.144498     98.25      74.75      14.00    2015   \n",
       "3            0.596375  0.144498     98.25      74.75      14.00    2016   \n",
       "4            0.629000  0.011721    112.75      51.50     183.75    2010   \n",
       "5            0.629000  0.011721    112.75      51.50     183.75    2015   \n",
       "6            0.595600  0.011721    112.75      51.50     183.75    2019   \n",
       "7            0.626000 -0.063087     96.50      40.75      35.75    2015   \n",
       "\n",
       "   max_yr  no_replicates  \n",
       "0    2019              1  \n",
       "1    2015              2  \n",
       "2    2015              1  \n",
       "3    2019              2  \n",
       "4    2019              3  \n",
       "5    2015              1  \n",
       "6    2019              1  \n",
       "7    2019              3  "
      ]
     },
     "execution_count": 41,
     "metadata": {},
     "output_type": "execute_result"
    }
   ],
   "source": [
    "# View the dataframe \n",
    "first_8_rows"
   ]
  },
  {
   "cell_type": "code",
   "execution_count": 42,
   "metadata": {
    "deletable": false,
    "editable": false,
    "tags": []
   },
   "outputs": [
    {
     "data": {
      "text/html": [
       "<p><strong><pre style='display: inline;'>q3_d</pre></strong> passed! ✨</p>"
      ],
      "text/plain": [
       "q3_d results: All test cases passed!"
      ]
     },
     "execution_count": 42,
     "metadata": {},
     "output_type": "execute_result"
    }
   ],
   "source": [
    "grader.check(\"q3_d\")"
   ]
  },
  {
   "cell_type": "markdown",
   "metadata": {
    "deletable": false,
    "editable": false
   },
   "source": [
    "<!-- BEGIN QUESTION -->\n",
    "\n",
    "e. Write code to find out some other inital information you are interested in. "
   ]
  },
  {
   "cell_type": "code",
   "execution_count": 43,
   "metadata": {
    "tags": [
     "otter_answer_cell"
    ]
   },
   "outputs": [
    {
     "data": {
      "text/plain": [
       "<bound method NDFrame.describe of      PU_ID     PU_Lat     PU_Lon  Number_of_genera       Country  \\\n",
       "0        7  39.076711  -5.490011                35      Tanzania   \n",
       "1        7  39.076711  -5.490011                22      Tanzania   \n",
       "2        7  39.076711  -5.490011                25      Tanzania   \n",
       "3        7  39.076711  -5.490011                26      Tanzania   \n",
       "4       10  39.054253  -5.512514                27      Tanzania   \n",
       "..     ...        ...        ...               ...           ...   \n",
       "570  11681  32.878336 -27.011417                19  South Africa   \n",
       "571  11682  32.878336 -27.011417                18  South Africa   \n",
       "572  11683  32.878336 -27.011417                19  South Africa   \n",
       "573  11683  32.878336 -27.011417                19  South Africa   \n",
       "574  11683  32.878336 -27.011417                21  South Africa   \n",
       "\n",
       "                    Ecoregion   Management           Habitat Observer  Depth  \\\n",
       "0    East African Coral Coast  UnfishedLow             Crest      Tim  11.00   \n",
       "1    East African Coral Coast  UnfishedLow  Lagoon/Back reef  Nyawira   2.00   \n",
       "2    East African Coral Coast  UnfishedLow             Slope  Nyawira   4.00   \n",
       "3    East African Coral Coast  UnfishedLow             Slope  Nyawira   3.00   \n",
       "4    East African Coral Coast  UnfishedLow  Lagoon/Back reef  Nyawira   1.50   \n",
       "..                        ...          ...               ...      ...    ...   \n",
       "570                   Delagoa   Restricted             Slope     Sink  15.50   \n",
       "571                   Delagoa   Restricted             Slope   Carlos  12.00   \n",
       "572                   Delagoa   Restricted             Slope   Carlos  12.60   \n",
       "573                   Delagoa   Restricted             Slope   Porter  13.00   \n",
       "574                   Delagoa   Restricted             Slope     Sink  13.47   \n",
       "\n",
       "     Coralcover  SSTRateofRise     PARmax   Calcite  Dis_oxygen  mean.waveNRJ  \\\n",
       "0            45       0.019214  54.747001  0.001075      4.7495      3.714321   \n",
       "1            45       0.019214  54.747001  0.001075      4.7495      3.714321   \n",
       "2            45       0.019214  54.747001  0.001075      4.7495      3.714321   \n",
       "3            45       0.019214  54.747001  0.001075      4.7495      3.714321   \n",
       "4            48       0.020051  55.395000  0.001747      4.7510      3.270938   \n",
       "..          ...            ...        ...       ...         ...           ...   \n",
       "570          47       0.010503  55.098000  0.000271      4.8220     15.231829   \n",
       "571          47       0.010503  55.098000  0.000271      4.8220     15.231829   \n",
       "572          47       0.010503  55.098000  0.000271      4.8220     15.231829   \n",
       "573          47       0.010503  55.098000  0.000271      4.8220     15.231829   \n",
       "574          47       0.010503  55.098000  0.000271      4.8220     15.231829   \n",
       "\n",
       "     Salinity_mean  andrello_reef_value  andrello_nutrients     mean.npp  \\\n",
       "0        35.167646                    0            8.388602  1139.112671   \n",
       "1        35.167646                    0            8.388602  1139.112671   \n",
       "2        35.167646                    0            8.388602  1139.112671   \n",
       "3        35.167646                    0            8.388602  1139.112671   \n",
       "4        35.102688                    0            6.731860  1126.355957   \n",
       "..             ...                  ...                 ...          ...   \n",
       "570      35.301208                  275            0.168378  1054.313965   \n",
       "571      35.301208                  275            0.168378  1054.313965   \n",
       "572      35.301208                  275            0.168378  1054.313965   \n",
       "573      35.301208                  275            0.168378  1054.313965   \n",
       "574      35.301208                  275            0.168378  1054.313965   \n",
       "\n",
       "     TT_market_hrs  TT_pop_hrs     cumDHW  SST_Kurtosis  SST_Median  \\\n",
       "0         1.383333    0.366667  24.133263     -0.803330      27.435   \n",
       "1         1.383333    0.366667  24.133263     -0.803330      27.435   \n",
       "2         1.383333    0.366667  24.133263     -0.803330      27.435   \n",
       "3         1.383333    0.366667  24.133263     -0.803330      27.435   \n",
       "4         1.383333    0.366667  25.342901     -0.793681      27.455   \n",
       "..             ...         ...        ...           ...         ...   \n",
       "570       2.866667    0.250000  24.942308     -1.229474      25.665   \n",
       "571       2.866667    0.250000  24.942308     -1.229474      25.665   \n",
       "572       2.866667    0.250000  24.942308     -1.229474      25.665   \n",
       "573       2.866667    0.250000  24.942308     -1.229474      25.665   \n",
       "574       2.866667    0.250000  24.942308     -1.229474      25.665   \n",
       "\n",
       "     ChlorA_median  andrello_sediments  Current_vel_mean  Diff_attenuation  \\\n",
       "0         0.465182        53540.007810          0.541991           0.09475   \n",
       "1         0.465182        53540.007810          0.541991           0.09475   \n",
       "2         0.465182        53540.007810          0.541991           0.09475   \n",
       "3         0.465182        53540.007810          0.541991           0.09475   \n",
       "4         0.700521        38477.105470          0.690454           0.11400   \n",
       "..             ...                 ...               ...               ...   \n",
       "570       0.311570           10.147757          0.406402           0.10800   \n",
       "571       0.311570           10.147757          0.406402           0.10800   \n",
       "572       0.311570           10.147757          0.406402           0.10800   \n",
       "573       0.311570           10.147757          0.406402           0.10800   \n",
       "574       0.311570           10.147757          0.406402           0.10800   \n",
       "\n",
       "      Grav_NP    Grav_NC      PH  SST_bimodality  SST_Skewness  \\\n",
       "0    0.008503  32.387920  8.2175        0.462556     -0.128136   \n",
       "1    0.008503  32.387920  8.2175        0.462556     -0.128136   \n",
       "2    0.008503  32.387920  8.2175        0.462556     -0.128136   \n",
       "3    0.008503  32.387920  8.2175        0.462556     -0.128136   \n",
       "4    0.008503  32.387920  8.2180        0.461297     -0.134548   \n",
       "..        ...        ...     ...             ...           ...   \n",
       "570  0.004548   0.208307  8.2400        0.568628      0.084750   \n",
       "571  0.004548   0.208307  8.2400        0.568628      0.084750   \n",
       "572  0.004548   0.208307  8.2400        0.568628      0.084750   \n",
       "573  0.004548   0.208307  8.2400        0.568628      0.084750   \n",
       "574  0.004548   0.208307  8.2400        0.568628      0.084750   \n",
       "\n",
       "     ClimateStressModel   Netflow  Indegree  Outdegree  Retention  min_yr  \\\n",
       "0              0.596375  0.144498     98.25      74.75      14.00    2019   \n",
       "1              0.596375  0.144498     98.25      74.75      14.00    2010   \n",
       "2              0.596375  0.144498     98.25      74.75      14.00    2015   \n",
       "3              0.596375  0.144498     98.25      74.75      14.00    2016   \n",
       "4              0.629000  0.011721    112.75      51.50     183.75    2010   \n",
       "..                  ...       ...       ...        ...        ...     ...   \n",
       "570            0.371750  0.030092     15.75      17.00      86.50    2015   \n",
       "571            0.371750  0.030092     15.75      17.00      86.50    2007   \n",
       "572            0.371750  0.030092     15.75      17.00      86.50    2005   \n",
       "573            0.371750  0.030092     15.75      17.00      86.50    2022   \n",
       "574            0.371750  0.030092     15.75      17.00      86.50    2015   \n",
       "\n",
       "     max_yr  no_replicates  \n",
       "0      2019              1  \n",
       "1      2015              2  \n",
       "2      2015              1  \n",
       "3      2019              2  \n",
       "4      2019              3  \n",
       "..      ...            ...  \n",
       "570    2016              2  \n",
       "571    2007              2  \n",
       "572    2007             10  \n",
       "573    2022              4  \n",
       "574    2017             15  \n",
       "\n",
       "[575 rows x 42 columns]>"
      ]
     },
     "execution_count": 43,
     "metadata": {},
     "output_type": "execute_result"
    }
   ],
   "source": [
    "# e\n",
    "coral_div.describe"
   ]
  },
  {
   "cell_type": "markdown",
   "metadata": {
    "deletable": false,
    "editable": false
   },
   "source": [
    "<!-- END QUESTION -->\n",
    "\n",
    "<!-- BEGIN QUESTION -->\n",
    "\n",
    "## 4\n",
    "\n",
    "Some of the columns have data type `int64` and some have data type `float64`. What is the difference between these `int64` and `float64`?\n"
   ]
  },
  {
   "cell_type": "markdown",
   "metadata": {
    "tags": [
     "otter_answer_cell"
    ]
   },
   "source": [
    "- The difference between a float64 and int64 is that a float64 has a decimal numbers and the int64 are whole numbers."
   ]
  },
  {
   "cell_type": "markdown",
   "metadata": {
    "deletable": false,
    "editable": false
   },
   "source": [
    "<!-- END QUESTION -->\n",
    "\n",
    "<!-- BEGIN QUESTION -->\n",
    "\n",
    "## 5\n",
    "\n",
    "The `Country` column indicates the country where the coral reef is located. Explain, in your own words, what is the ouput of `coral_div['Country']` and `coral_div['Country'].unique()`. "
   ]
  },
  {
   "cell_type": "markdown",
   "metadata": {
    "tags": [
     "otter_answer_cell"
    ]
   },
   "source": [
    "The difference between `coral_div['Country']` is that is shows all the rows where each country is shown. `coral_div['Country'].unique()` shows only the country's in the whole dataset.\n",
    "- #coral_div['Country']\n",
    "- #coral_div['Country'].unique()"
   ]
  },
  {
   "cell_type": "markdown",
   "metadata": {
    "deletable": false,
    "editable": false
   },
   "source": [
    "<!-- END QUESTION -->\n",
    "\n",
    "## 6\n",
    "\n",
    "Check the dataset's [metadata file README_md.doc](https://knb.ecoinformatics.org/view/doi:10.5063/F1K35S3H) to find which column has information about who made an observation. How many observers collected this data? HINT: Check this [method for `pandas.DataFrame`](https://pandas.pydata.org/docs/reference/api/pandas.DataFrame.nunique.html). Store your answer in the `unique_observers` variable."
   ]
  },
  {
   "cell_type": "code",
   "execution_count": 53,
   "metadata": {
    "tags": []
   },
   "outputs": [
    {
     "data": {
      "text/html": [
       "<div>\n",
       "<style scoped>\n",
       "    .dataframe tbody tr th:only-of-type {\n",
       "        vertical-align: middle;\n",
       "    }\n",
       "\n",
       "    .dataframe tbody tr th {\n",
       "        vertical-align: top;\n",
       "    }\n",
       "\n",
       "    .dataframe thead th {\n",
       "        text-align: right;\n",
       "    }\n",
       "</style>\n",
       "<table border=\"1\" class=\"dataframe\">\n",
       "  <thead>\n",
       "    <tr style=\"text-align: right;\">\n",
       "      <th></th>\n",
       "      <th>PU_ID</th>\n",
       "      <th>PU_Lat</th>\n",
       "      <th>PU_Lon</th>\n",
       "      <th>Number_of_genera</th>\n",
       "      <th>Country</th>\n",
       "      <th>Ecoregion</th>\n",
       "      <th>Management</th>\n",
       "      <th>Habitat</th>\n",
       "      <th>Observer</th>\n",
       "      <th>Depth</th>\n",
       "      <th>Coralcover</th>\n",
       "      <th>SSTRateofRise</th>\n",
       "      <th>PARmax</th>\n",
       "      <th>Calcite</th>\n",
       "      <th>Dis_oxygen</th>\n",
       "      <th>mean.waveNRJ</th>\n",
       "      <th>Salinity_mean</th>\n",
       "      <th>andrello_reef_value</th>\n",
       "      <th>andrello_nutrients</th>\n",
       "      <th>mean.npp</th>\n",
       "      <th>TT_market_hrs</th>\n",
       "      <th>TT_pop_hrs</th>\n",
       "      <th>cumDHW</th>\n",
       "      <th>SST_Kurtosis</th>\n",
       "      <th>SST_Median</th>\n",
       "      <th>ChlorA_median</th>\n",
       "      <th>andrello_sediments</th>\n",
       "      <th>Current_vel_mean</th>\n",
       "      <th>Diff_attenuation</th>\n",
       "      <th>Grav_NP</th>\n",
       "      <th>Grav_NC</th>\n",
       "      <th>PH</th>\n",
       "      <th>SST_bimodality</th>\n",
       "      <th>SST_Skewness</th>\n",
       "      <th>ClimateStressModel</th>\n",
       "      <th>Netflow</th>\n",
       "      <th>Indegree</th>\n",
       "      <th>Outdegree</th>\n",
       "      <th>Retention</th>\n",
       "      <th>min_yr</th>\n",
       "      <th>max_yr</th>\n",
       "      <th>no_replicates</th>\n",
       "    </tr>\n",
       "  </thead>\n",
       "  <tbody>\n",
       "    <tr>\n",
       "      <th>0</th>\n",
       "      <td>7</td>\n",
       "      <td>39.076711</td>\n",
       "      <td>-5.490011</td>\n",
       "      <td>35</td>\n",
       "      <td>Tanzania</td>\n",
       "      <td>East African Coral Coast</td>\n",
       "      <td>UnfishedLow</td>\n",
       "      <td>Crest</td>\n",
       "      <td>Tim</td>\n",
       "      <td>11.0</td>\n",
       "      <td>45</td>\n",
       "      <td>0.019214</td>\n",
       "      <td>54.747001</td>\n",
       "      <td>0.001075</td>\n",
       "      <td>4.7495</td>\n",
       "      <td>3.714321</td>\n",
       "      <td>35.167646</td>\n",
       "      <td>0</td>\n",
       "      <td>8.388602</td>\n",
       "      <td>1139.112671</td>\n",
       "      <td>1.383333</td>\n",
       "      <td>0.366667</td>\n",
       "      <td>24.133263</td>\n",
       "      <td>-0.80333</td>\n",
       "      <td>27.435</td>\n",
       "      <td>0.465182</td>\n",
       "      <td>53540.00781</td>\n",
       "      <td>0.541991</td>\n",
       "      <td>0.09475</td>\n",
       "      <td>0.008503</td>\n",
       "      <td>32.38792</td>\n",
       "      <td>8.2175</td>\n",
       "      <td>0.462556</td>\n",
       "      <td>-0.128136</td>\n",
       "      <td>0.596375</td>\n",
       "      <td>0.144498</td>\n",
       "      <td>98.25</td>\n",
       "      <td>74.75</td>\n",
       "      <td>14.0</td>\n",
       "      <td>2019</td>\n",
       "      <td>2019</td>\n",
       "      <td>1</td>\n",
       "    </tr>\n",
       "    <tr>\n",
       "      <th>1</th>\n",
       "      <td>7</td>\n",
       "      <td>39.076711</td>\n",
       "      <td>-5.490011</td>\n",
       "      <td>22</td>\n",
       "      <td>Tanzania</td>\n",
       "      <td>East African Coral Coast</td>\n",
       "      <td>UnfishedLow</td>\n",
       "      <td>Lagoon/Back reef</td>\n",
       "      <td>Nyawira</td>\n",
       "      <td>2.0</td>\n",
       "      <td>45</td>\n",
       "      <td>0.019214</td>\n",
       "      <td>54.747001</td>\n",
       "      <td>0.001075</td>\n",
       "      <td>4.7495</td>\n",
       "      <td>3.714321</td>\n",
       "      <td>35.167646</td>\n",
       "      <td>0</td>\n",
       "      <td>8.388602</td>\n",
       "      <td>1139.112671</td>\n",
       "      <td>1.383333</td>\n",
       "      <td>0.366667</td>\n",
       "      <td>24.133263</td>\n",
       "      <td>-0.80333</td>\n",
       "      <td>27.435</td>\n",
       "      <td>0.465182</td>\n",
       "      <td>53540.00781</td>\n",
       "      <td>0.541991</td>\n",
       "      <td>0.09475</td>\n",
       "      <td>0.008503</td>\n",
       "      <td>32.38792</td>\n",
       "      <td>8.2175</td>\n",
       "      <td>0.462556</td>\n",
       "      <td>-0.128136</td>\n",
       "      <td>0.596375</td>\n",
       "      <td>0.144498</td>\n",
       "      <td>98.25</td>\n",
       "      <td>74.75</td>\n",
       "      <td>14.0</td>\n",
       "      <td>2010</td>\n",
       "      <td>2015</td>\n",
       "      <td>2</td>\n",
       "    </tr>\n",
       "  </tbody>\n",
       "</table>\n",
       "</div>"
      ],
      "text/plain": [
       "   PU_ID     PU_Lat    PU_Lon  Number_of_genera   Country  \\\n",
       "0      7  39.076711 -5.490011                35  Tanzania   \n",
       "1      7  39.076711 -5.490011                22  Tanzania   \n",
       "\n",
       "                  Ecoregion   Management           Habitat Observer  Depth  \\\n",
       "0  East African Coral Coast  UnfishedLow             Crest      Tim   11.0   \n",
       "1  East African Coral Coast  UnfishedLow  Lagoon/Back reef  Nyawira    2.0   \n",
       "\n",
       "   Coralcover  SSTRateofRise     PARmax   Calcite  Dis_oxygen  mean.waveNRJ  \\\n",
       "0          45       0.019214  54.747001  0.001075      4.7495      3.714321   \n",
       "1          45       0.019214  54.747001  0.001075      4.7495      3.714321   \n",
       "\n",
       "   Salinity_mean  andrello_reef_value  andrello_nutrients     mean.npp  \\\n",
       "0      35.167646                    0            8.388602  1139.112671   \n",
       "1      35.167646                    0            8.388602  1139.112671   \n",
       "\n",
       "   TT_market_hrs  TT_pop_hrs     cumDHW  SST_Kurtosis  SST_Median  \\\n",
       "0       1.383333    0.366667  24.133263      -0.80333      27.435   \n",
       "1       1.383333    0.366667  24.133263      -0.80333      27.435   \n",
       "\n",
       "   ChlorA_median  andrello_sediments  Current_vel_mean  Diff_attenuation  \\\n",
       "0       0.465182         53540.00781          0.541991           0.09475   \n",
       "1       0.465182         53540.00781          0.541991           0.09475   \n",
       "\n",
       "    Grav_NP   Grav_NC      PH  SST_bimodality  SST_Skewness  \\\n",
       "0  0.008503  32.38792  8.2175        0.462556     -0.128136   \n",
       "1  0.008503  32.38792  8.2175        0.462556     -0.128136   \n",
       "\n",
       "   ClimateStressModel   Netflow  Indegree  Outdegree  Retention  min_yr  \\\n",
       "0            0.596375  0.144498     98.25      74.75       14.0    2019   \n",
       "1            0.596375  0.144498     98.25      74.75       14.0    2010   \n",
       "\n",
       "   max_yr  no_replicates  \n",
       "0    2019              1  \n",
       "1    2015              2  "
      ]
     },
     "execution_count": 53,
     "metadata": {},
     "output_type": "execute_result"
    }
   ],
   "source": [
    "coral_div.head(2)"
   ]
  },
  {
   "cell_type": "code",
   "execution_count": 55,
   "metadata": {
    "tags": [
     "otter_answer_cell"
    ]
   },
   "outputs": [],
   "source": [
    "unique_observers = coral_div['Observer'].nunique()"
   ]
  },
  {
   "cell_type": "code",
   "execution_count": 56,
   "metadata": {
    "deletable": false,
    "editable": false
   },
   "outputs": [
    {
     "data": {
      "text/html": [
       "<p><strong><pre style='display: inline;'>q6</pre></strong> passed! 🌈</p>"
      ],
      "text/plain": [
       "q6 results: All test cases passed!"
      ]
     },
     "execution_count": 56,
     "metadata": {},
     "output_type": "execute_result"
    }
   ],
   "source": [
    "grader.check(\"q6\")"
   ]
  },
  {
   "cell_type": "markdown",
   "metadata": {},
   "source": [
    "## 7\n",
    "\n",
    "The `Coralcover` column indicates the percent of hard coral cover in each 6 km reef cell surveyed. "
   ]
  },
  {
   "cell_type": "markdown",
   "metadata": {
    "deletable": false,
    "editable": false
   },
   "source": [
    "<!-- BEGIN QUESTION -->\n",
    "\n",
    "a)  Describe, in detail,  what kind of object `coral_div['Coralcover']>= 50` is."
   ]
  },
  {
   "cell_type": "markdown",
   "metadata": {
    "tags": [
     "otter_answer_cell"
    ]
   },
   "source": [
    "The object is a pandas series, it returns boolean operators and only the single column."
   ]
  },
  {
   "cell_type": "markdown",
   "metadata": {
    "deletable": false,
    "editable": false
   },
   "source": [
    "<!-- END QUESTION -->\n",
    "\n",
    "<!-- BEGIN QUESTION -->\n",
    "\n",
    "b) What data is `coral_div[coral_div['Coralcover'] >= 50]` selecting?"
   ]
  },
  {
   "cell_type": "markdown",
   "metadata": {
    "tags": [
     "otter_answer_cell"
    ]
   },
   "source": [
    "Is a pandas dataframe because we are calling the dataframe, from the dataframe we are telling it to grab the `coralcover` column. When it produces the output it returns the whole dataframe not just the single column."
   ]
  },
  {
   "cell_type": "markdown",
   "metadata": {
    "deletable": false,
    "editable": false
   },
   "source": [
    "<!-- END QUESTION -->\n",
    "\n",
    "## 8\n",
    "\n",
    "Use code to find if there are there any sites with a 30% coral cover in Tanzania. Store your answer in the `coral_cover` variable."
   ]
  },
  {
   "cell_type": "code",
   "execution_count": 76,
   "metadata": {
    "tags": [
     "otter_answer_cell"
    ]
   },
   "outputs": [],
   "source": [
    "coral_cover = coral_div[(coral_div['Coralcover'] == 30) & (coral_div['Country'] == 'Tanzania')]"
   ]
  },
  {
   "cell_type": "code",
   "execution_count": 77,
   "metadata": {
    "tags": [
     "otter_answer_cell"
    ]
   },
   "outputs": [
    {
     "data": {
      "text/html": [
       "<div>\n",
       "<style scoped>\n",
       "    .dataframe tbody tr th:only-of-type {\n",
       "        vertical-align: middle;\n",
       "    }\n",
       "\n",
       "    .dataframe tbody tr th {\n",
       "        vertical-align: top;\n",
       "    }\n",
       "\n",
       "    .dataframe thead th {\n",
       "        text-align: right;\n",
       "    }\n",
       "</style>\n",
       "<table border=\"1\" class=\"dataframe\">\n",
       "  <thead>\n",
       "    <tr style=\"text-align: right;\">\n",
       "      <th></th>\n",
       "      <th>PU_ID</th>\n",
       "      <th>PU_Lat</th>\n",
       "      <th>PU_Lon</th>\n",
       "      <th>Number_of_genera</th>\n",
       "      <th>Country</th>\n",
       "      <th>Ecoregion</th>\n",
       "      <th>Management</th>\n",
       "      <th>Habitat</th>\n",
       "      <th>Observer</th>\n",
       "      <th>Depth</th>\n",
       "      <th>Coralcover</th>\n",
       "      <th>SSTRateofRise</th>\n",
       "      <th>PARmax</th>\n",
       "      <th>Calcite</th>\n",
       "      <th>Dis_oxygen</th>\n",
       "      <th>mean.waveNRJ</th>\n",
       "      <th>Salinity_mean</th>\n",
       "      <th>andrello_reef_value</th>\n",
       "      <th>andrello_nutrients</th>\n",
       "      <th>mean.npp</th>\n",
       "      <th>TT_market_hrs</th>\n",
       "      <th>TT_pop_hrs</th>\n",
       "      <th>cumDHW</th>\n",
       "      <th>SST_Kurtosis</th>\n",
       "      <th>SST_Median</th>\n",
       "      <th>ChlorA_median</th>\n",
       "      <th>andrello_sediments</th>\n",
       "      <th>Current_vel_mean</th>\n",
       "      <th>Diff_attenuation</th>\n",
       "      <th>Grav_NP</th>\n",
       "      <th>Grav_NC</th>\n",
       "      <th>PH</th>\n",
       "      <th>SST_bimodality</th>\n",
       "      <th>SST_Skewness</th>\n",
       "      <th>ClimateStressModel</th>\n",
       "      <th>Netflow</th>\n",
       "      <th>Indegree</th>\n",
       "      <th>Outdegree</th>\n",
       "      <th>Retention</th>\n",
       "      <th>min_yr</th>\n",
       "      <th>max_yr</th>\n",
       "      <th>no_replicates</th>\n",
       "    </tr>\n",
       "  </thead>\n",
       "  <tbody>\n",
       "    <tr>\n",
       "      <th>63</th>\n",
       "      <td>693</td>\n",
       "      <td>39.391121</td>\n",
       "      <td>-5.782490</td>\n",
       "      <td>10</td>\n",
       "      <td>Tanzania</td>\n",
       "      <td>East African Coral Coast</td>\n",
       "      <td>Fished</td>\n",
       "      <td>Lagoon/Back reef</td>\n",
       "      <td>Nyawira</td>\n",
       "      <td>5.000000</td>\n",
       "      <td>30</td>\n",
       "      <td>0.015676</td>\n",
       "      <td>52.992001</td>\n",
       "      <td>0.037043</td>\n",
       "      <td>4.7580</td>\n",
       "      <td>5.885771</td>\n",
       "      <td>35.099083</td>\n",
       "      <td>1156</td>\n",
       "      <td>1.507334</td>\n",
       "      <td>958.495666</td>\n",
       "      <td>0.950000</td>\n",
       "      <td>0.550000</td>\n",
       "      <td>30.656667</td>\n",
       "      <td>-0.940944</td>\n",
       "      <td>27.3625</td>\n",
       "      <td>0.225574</td>\n",
       "      <td>26.068680</td>\n",
       "      <td>0.716784</td>\n",
       "      <td>0.0730</td>\n",
       "      <td>0.004944</td>\n",
       "      <td>0.779117</td>\n",
       "      <td>8.215</td>\n",
       "      <td>0.490512</td>\n",
       "      <td>-0.101724</td>\n",
       "      <td>0.655600</td>\n",
       "      <td>-0.309514</td>\n",
       "      <td>77.0</td>\n",
       "      <td>65.25</td>\n",
       "      <td>147.50</td>\n",
       "      <td>2018</td>\n",
       "      <td>2018</td>\n",
       "      <td>2</td>\n",
       "    </tr>\n",
       "    <tr>\n",
       "      <th>64</th>\n",
       "      <td>697</td>\n",
       "      <td>39.391121</td>\n",
       "      <td>-5.804983</td>\n",
       "      <td>22</td>\n",
       "      <td>Tanzania</td>\n",
       "      <td>East African Coral Coast</td>\n",
       "      <td>Fished</td>\n",
       "      <td>Lagoon/Back reef</td>\n",
       "      <td>Nyawira</td>\n",
       "      <td>9.166667</td>\n",
       "      <td>30</td>\n",
       "      <td>0.015599</td>\n",
       "      <td>52.992001</td>\n",
       "      <td>0.037043</td>\n",
       "      <td>4.7580</td>\n",
       "      <td>5.285148</td>\n",
       "      <td>35.099083</td>\n",
       "      <td>1156</td>\n",
       "      <td>1.507334</td>\n",
       "      <td>968.100098</td>\n",
       "      <td>0.950000</td>\n",
       "      <td>0.550000</td>\n",
       "      <td>30.021056</td>\n",
       "      <td>-0.942581</td>\n",
       "      <td>27.3600</td>\n",
       "      <td>0.217308</td>\n",
       "      <td>26.068680</td>\n",
       "      <td>0.716784</td>\n",
       "      <td>0.0730</td>\n",
       "      <td>0.004944</td>\n",
       "      <td>0.779117</td>\n",
       "      <td>8.215</td>\n",
       "      <td>0.490769</td>\n",
       "      <td>-0.100365</td>\n",
       "      <td>0.683050</td>\n",
       "      <td>-0.309514</td>\n",
       "      <td>77.0</td>\n",
       "      <td>65.25</td>\n",
       "      <td>147.50</td>\n",
       "      <td>2010</td>\n",
       "      <td>2018</td>\n",
       "      <td>3</td>\n",
       "    </tr>\n",
       "    <tr>\n",
       "      <th>341</th>\n",
       "      <td>4294</td>\n",
       "      <td>39.211458</td>\n",
       "      <td>-4.814515</td>\n",
       "      <td>37</td>\n",
       "      <td>Tanzania</td>\n",
       "      <td>East African Coral Coast</td>\n",
       "      <td>Fished</td>\n",
       "      <td>Slope</td>\n",
       "      <td>Nyawira</td>\n",
       "      <td>11.000000</td>\n",
       "      <td>30</td>\n",
       "      <td>0.018789</td>\n",
       "      <td>53.858002</td>\n",
       "      <td>0.002154</td>\n",
       "      <td>4.7170</td>\n",
       "      <td>3.129188</td>\n",
       "      <td>35.120766</td>\n",
       "      <td>0</td>\n",
       "      <td>1.233231</td>\n",
       "      <td>996.539490</td>\n",
       "      <td>1.216667</td>\n",
       "      <td>0.266667</td>\n",
       "      <td>23.736330</td>\n",
       "      <td>-0.779552</td>\n",
       "      <td>27.2450</td>\n",
       "      <td>0.470832</td>\n",
       "      <td>1746.570435</td>\n",
       "      <td>0.653534</td>\n",
       "      <td>0.1210</td>\n",
       "      <td>0.004043</td>\n",
       "      <td>42.349168</td>\n",
       "      <td>8.216</td>\n",
       "      <td>0.451293</td>\n",
       "      <td>-0.048992</td>\n",
       "      <td>0.608900</td>\n",
       "      <td>0.514920</td>\n",
       "      <td>46.0</td>\n",
       "      <td>49.50</td>\n",
       "      <td>82.75</td>\n",
       "      <td>2018</td>\n",
       "      <td>2018</td>\n",
       "      <td>1</td>\n",
       "    </tr>\n",
       "    <tr>\n",
       "      <th>342</th>\n",
       "      <td>4299</td>\n",
       "      <td>39.233916</td>\n",
       "      <td>-4.837043</td>\n",
       "      <td>26</td>\n",
       "      <td>Tanzania</td>\n",
       "      <td>East African Coral Coast</td>\n",
       "      <td>Fished</td>\n",
       "      <td>Slope</td>\n",
       "      <td>Nyawira</td>\n",
       "      <td>12.500000</td>\n",
       "      <td>30</td>\n",
       "      <td>0.018789</td>\n",
       "      <td>53.937000</td>\n",
       "      <td>0.001265</td>\n",
       "      <td>4.7195</td>\n",
       "      <td>2.233872</td>\n",
       "      <td>35.125887</td>\n",
       "      <td>0</td>\n",
       "      <td>1.233231</td>\n",
       "      <td>1018.213928</td>\n",
       "      <td>1.550000</td>\n",
       "      <td>0.566667</td>\n",
       "      <td>23.736330</td>\n",
       "      <td>-0.779552</td>\n",
       "      <td>27.2500</td>\n",
       "      <td>0.462739</td>\n",
       "      <td>1746.570435</td>\n",
       "      <td>0.653883</td>\n",
       "      <td>0.1115</td>\n",
       "      <td>0.000879</td>\n",
       "      <td>25.914153</td>\n",
       "      <td>8.216</td>\n",
       "      <td>0.451293</td>\n",
       "      <td>-0.048992</td>\n",
       "      <td>0.601725</td>\n",
       "      <td>0.514920</td>\n",
       "      <td>46.0</td>\n",
       "      <td>49.50</td>\n",
       "      <td>82.75</td>\n",
       "      <td>2018</td>\n",
       "      <td>2018</td>\n",
       "      <td>2</td>\n",
       "    </tr>\n",
       "    <tr>\n",
       "      <th>343</th>\n",
       "      <td>4302</td>\n",
       "      <td>39.211458</td>\n",
       "      <td>-4.859570</td>\n",
       "      <td>31</td>\n",
       "      <td>Tanzania</td>\n",
       "      <td>East African Coral Coast</td>\n",
       "      <td>Fished</td>\n",
       "      <td>Slope</td>\n",
       "      <td>Nyawira</td>\n",
       "      <td>7.000000</td>\n",
       "      <td>30</td>\n",
       "      <td>0.018462</td>\n",
       "      <td>54.015999</td>\n",
       "      <td>0.000377</td>\n",
       "      <td>4.7220</td>\n",
       "      <td>0.179306</td>\n",
       "      <td>35.131008</td>\n",
       "      <td>0</td>\n",
       "      <td>1.233231</td>\n",
       "      <td>1071.519775</td>\n",
       "      <td>1.550000</td>\n",
       "      <td>0.566667</td>\n",
       "      <td>23.285391</td>\n",
       "      <td>-0.784669</td>\n",
       "      <td>27.2600</td>\n",
       "      <td>0.469467</td>\n",
       "      <td>1746.570435</td>\n",
       "      <td>0.654233</td>\n",
       "      <td>0.1020</td>\n",
       "      <td>0.000879</td>\n",
       "      <td>25.914153</td>\n",
       "      <td>8.216</td>\n",
       "      <td>0.452402</td>\n",
       "      <td>-0.050477</td>\n",
       "      <td>0.595200</td>\n",
       "      <td>0.514920</td>\n",
       "      <td>46.0</td>\n",
       "      <td>49.50</td>\n",
       "      <td>82.75</td>\n",
       "      <td>2018</td>\n",
       "      <td>2018</td>\n",
       "      <td>1</td>\n",
       "    </tr>\n",
       "  </tbody>\n",
       "</table>\n",
       "</div>"
      ],
      "text/plain": [
       "     PU_ID     PU_Lat    PU_Lon  Number_of_genera   Country  \\\n",
       "63     693  39.391121 -5.782490                10  Tanzania   \n",
       "64     697  39.391121 -5.804983                22  Tanzania   \n",
       "341   4294  39.211458 -4.814515                37  Tanzania   \n",
       "342   4299  39.233916 -4.837043                26  Tanzania   \n",
       "343   4302  39.211458 -4.859570                31  Tanzania   \n",
       "\n",
       "                    Ecoregion Management           Habitat Observer  \\\n",
       "63   East African Coral Coast     Fished  Lagoon/Back reef  Nyawira   \n",
       "64   East African Coral Coast     Fished  Lagoon/Back reef  Nyawira   \n",
       "341  East African Coral Coast     Fished             Slope  Nyawira   \n",
       "342  East African Coral Coast     Fished             Slope  Nyawira   \n",
       "343  East African Coral Coast     Fished             Slope  Nyawira   \n",
       "\n",
       "         Depth  Coralcover  SSTRateofRise     PARmax   Calcite  Dis_oxygen  \\\n",
       "63    5.000000          30       0.015676  52.992001  0.037043      4.7580   \n",
       "64    9.166667          30       0.015599  52.992001  0.037043      4.7580   \n",
       "341  11.000000          30       0.018789  53.858002  0.002154      4.7170   \n",
       "342  12.500000          30       0.018789  53.937000  0.001265      4.7195   \n",
       "343   7.000000          30       0.018462  54.015999  0.000377      4.7220   \n",
       "\n",
       "     mean.waveNRJ  Salinity_mean  andrello_reef_value  andrello_nutrients  \\\n",
       "63       5.885771      35.099083                 1156            1.507334   \n",
       "64       5.285148      35.099083                 1156            1.507334   \n",
       "341      3.129188      35.120766                    0            1.233231   \n",
       "342      2.233872      35.125887                    0            1.233231   \n",
       "343      0.179306      35.131008                    0            1.233231   \n",
       "\n",
       "        mean.npp  TT_market_hrs  TT_pop_hrs     cumDHW  SST_Kurtosis  \\\n",
       "63    958.495666       0.950000    0.550000  30.656667     -0.940944   \n",
       "64    968.100098       0.950000    0.550000  30.021056     -0.942581   \n",
       "341   996.539490       1.216667    0.266667  23.736330     -0.779552   \n",
       "342  1018.213928       1.550000    0.566667  23.736330     -0.779552   \n",
       "343  1071.519775       1.550000    0.566667  23.285391     -0.784669   \n",
       "\n",
       "     SST_Median  ChlorA_median  andrello_sediments  Current_vel_mean  \\\n",
       "63      27.3625       0.225574           26.068680          0.716784   \n",
       "64      27.3600       0.217308           26.068680          0.716784   \n",
       "341     27.2450       0.470832         1746.570435          0.653534   \n",
       "342     27.2500       0.462739         1746.570435          0.653883   \n",
       "343     27.2600       0.469467         1746.570435          0.654233   \n",
       "\n",
       "     Diff_attenuation   Grav_NP    Grav_NC     PH  SST_bimodality  \\\n",
       "63             0.0730  0.004944   0.779117  8.215        0.490512   \n",
       "64             0.0730  0.004944   0.779117  8.215        0.490769   \n",
       "341            0.1210  0.004043  42.349168  8.216        0.451293   \n",
       "342            0.1115  0.000879  25.914153  8.216        0.451293   \n",
       "343            0.1020  0.000879  25.914153  8.216        0.452402   \n",
       "\n",
       "     SST_Skewness  ClimateStressModel   Netflow  Indegree  Outdegree  \\\n",
       "63      -0.101724            0.655600 -0.309514      77.0      65.25   \n",
       "64      -0.100365            0.683050 -0.309514      77.0      65.25   \n",
       "341     -0.048992            0.608900  0.514920      46.0      49.50   \n",
       "342     -0.048992            0.601725  0.514920      46.0      49.50   \n",
       "343     -0.050477            0.595200  0.514920      46.0      49.50   \n",
       "\n",
       "     Retention  min_yr  max_yr  no_replicates  \n",
       "63      147.50    2018    2018              2  \n",
       "64      147.50    2010    2018              3  \n",
       "341      82.75    2018    2018              1  \n",
       "342      82.75    2018    2018              2  \n",
       "343      82.75    2018    2018              1  "
      ]
     },
     "execution_count": 77,
     "metadata": {},
     "output_type": "execute_result"
    }
   ],
   "source": [
    "# View the dataframe\n",
    "coral_cover.head()"
   ]
  },
  {
   "cell_type": "code",
   "execution_count": 78,
   "metadata": {
    "deletable": false,
    "editable": false
   },
   "outputs": [
    {
     "data": {
      "text/html": [
       "<p><strong><pre style='display: inline;'>q8</pre></strong> passed! 🎉</p>"
      ],
      "text/plain": [
       "q8 results: All test cases passed!"
      ]
     },
     "execution_count": 78,
     "metadata": {},
     "output_type": "execute_result"
    }
   ],
   "source": [
    "grader.check(\"q8\")"
   ]
  },
  {
   "cell_type": "markdown",
   "metadata": {
    "deletable": false,
    "editable": false
   },
   "source": [
    "## 9\n",
    "\n",
    "We are interested in looking at the PH of sea water (`PH` column),  mean salinity (`Salinity_mean` column), and depth of survey location in meters (`Depth` column). Subset the data frame by selecting only these column. Store your answer in the `filtered_data` variable"
   ]
  },
  {
   "cell_type": "code",
   "execution_count": 92,
   "metadata": {
    "tags": [
     "otter_answer_cell"
    ]
   },
   "outputs": [],
   "source": [
    "filtered_data = coral_div[['PH', 'Salinity_mean','Depth']] # because coral_div is a series"
   ]
  },
  {
   "cell_type": "code",
   "execution_count": 86,
   "metadata": {
    "deletable": false,
    "editable": false
   },
   "outputs": [
    {
     "data": {
      "text/html": [
       "<div>\n",
       "<style scoped>\n",
       "    .dataframe tbody tr th:only-of-type {\n",
       "        vertical-align: middle;\n",
       "    }\n",
       "\n",
       "    .dataframe tbody tr th {\n",
       "        vertical-align: top;\n",
       "    }\n",
       "\n",
       "    .dataframe thead th {\n",
       "        text-align: right;\n",
       "    }\n",
       "</style>\n",
       "<table border=\"1\" class=\"dataframe\">\n",
       "  <thead>\n",
       "    <tr style=\"text-align: right;\">\n",
       "      <th></th>\n",
       "      <th>PH</th>\n",
       "      <th>Salinity_mean</th>\n",
       "      <th>Depth</th>\n",
       "    </tr>\n",
       "  </thead>\n",
       "  <tbody>\n",
       "    <tr>\n",
       "      <th>0</th>\n",
       "      <td>8.2175</td>\n",
       "      <td>35.167646</td>\n",
       "      <td>11.0</td>\n",
       "    </tr>\n",
       "    <tr>\n",
       "      <th>1</th>\n",
       "      <td>8.2175</td>\n",
       "      <td>35.167646</td>\n",
       "      <td>2.0</td>\n",
       "    </tr>\n",
       "    <tr>\n",
       "      <th>2</th>\n",
       "      <td>8.2175</td>\n",
       "      <td>35.167646</td>\n",
       "      <td>4.0</td>\n",
       "    </tr>\n",
       "    <tr>\n",
       "      <th>3</th>\n",
       "      <td>8.2175</td>\n",
       "      <td>35.167646</td>\n",
       "      <td>3.0</td>\n",
       "    </tr>\n",
       "    <tr>\n",
       "      <th>4</th>\n",
       "      <td>8.2180</td>\n",
       "      <td>35.102688</td>\n",
       "      <td>1.5</td>\n",
       "    </tr>\n",
       "  </tbody>\n",
       "</table>\n",
       "</div>"
      ],
      "text/plain": [
       "       PH  Salinity_mean  Depth\n",
       "0  8.2175      35.167646   11.0\n",
       "1  8.2175      35.167646    2.0\n",
       "2  8.2175      35.167646    4.0\n",
       "3  8.2175      35.167646    3.0\n",
       "4  8.2180      35.102688    1.5"
      ]
     },
     "execution_count": 86,
     "metadata": {},
     "output_type": "execute_result"
    }
   ],
   "source": [
    "# View the dataframe\n",
    "filtered_data.head()"
   ]
  },
  {
   "cell_type": "code",
   "execution_count": 87,
   "metadata": {
    "deletable": false,
    "editable": false
   },
   "outputs": [
    {
     "data": {
      "text/html": [
       "<p><strong><pre style='display: inline;'>q9</pre></strong> passed! 🎉</p>"
      ],
      "text/plain": [
       "q9 results: All test cases passed!"
      ]
     },
     "execution_count": 87,
     "metadata": {},
     "output_type": "execute_result"
    }
   ],
   "source": [
    "grader.check(\"q9\")"
   ]
  },
  {
   "cell_type": "markdown",
   "metadata": {
    "deletable": false,
    "editable": false
   },
   "source": [
    "## 10\n",
    "The `max_yr` column indicates the year of last sampling at a given site. Select the PH, salinity, and depth for sites where sampling ended in 2017. Store your answer in the `sampling_2017` variable. `Sampling_2017` should include the following columns in the following order: ` PH, Salinity_mean, Depth, max_yr`. \n"
   ]
  },
  {
   "cell_type": "code",
   "execution_count": 109,
   "metadata": {
    "tags": [
     "otter_answer_cell"
    ]
   },
   "outputs": [],
   "source": [
    "sampling_2017 = coral_div[['PH', 'Salinity_mean','Depth', 'max_yr']].loc[coral_div['max_yr'] == 2017]"
   ]
  },
  {
   "cell_type": "code",
   "execution_count": 107,
   "metadata": {
    "tags": [
     "otter_answer_cell"
    ]
   },
   "outputs": [
    {
     "data": {
      "text/html": [
       "<div>\n",
       "<style scoped>\n",
       "    .dataframe tbody tr th:only-of-type {\n",
       "        vertical-align: middle;\n",
       "    }\n",
       "\n",
       "    .dataframe tbody tr th {\n",
       "        vertical-align: top;\n",
       "    }\n",
       "\n",
       "    .dataframe thead th {\n",
       "        text-align: right;\n",
       "    }\n",
       "</style>\n",
       "<table border=\"1\" class=\"dataframe\">\n",
       "  <thead>\n",
       "    <tr style=\"text-align: right;\">\n",
       "      <th></th>\n",
       "      <th>PH</th>\n",
       "      <th>Salinity_mean</th>\n",
       "      <th>Depth</th>\n",
       "      <th>max_yr</th>\n",
       "    </tr>\n",
       "  </thead>\n",
       "  <tbody>\n",
       "    <tr>\n",
       "      <th>67</th>\n",
       "      <td>8.2150</td>\n",
       "      <td>35.100085</td>\n",
       "      <td>16.000000</td>\n",
       "      <td>2017</td>\n",
       "    </tr>\n",
       "    <tr>\n",
       "      <th>68</th>\n",
       "      <td>8.2145</td>\n",
       "      <td>35.144927</td>\n",
       "      <td>10.000000</td>\n",
       "      <td>2017</td>\n",
       "    </tr>\n",
       "    <tr>\n",
       "      <th>70</th>\n",
       "      <td>8.2150</td>\n",
       "      <td>35.101086</td>\n",
       "      <td>11.000000</td>\n",
       "      <td>2017</td>\n",
       "    </tr>\n",
       "    <tr>\n",
       "      <th>71</th>\n",
       "      <td>8.2150</td>\n",
       "      <td>35.101086</td>\n",
       "      <td>11.000000</td>\n",
       "      <td>2017</td>\n",
       "    </tr>\n",
       "    <tr>\n",
       "      <th>72</th>\n",
       "      <td>8.2150</td>\n",
       "      <td>35.101086</td>\n",
       "      <td>9.000000</td>\n",
       "      <td>2017</td>\n",
       "    </tr>\n",
       "    <tr>\n",
       "      <th>73</th>\n",
       "      <td>8.2150</td>\n",
       "      <td>35.101086</td>\n",
       "      <td>9.000000</td>\n",
       "      <td>2017</td>\n",
       "    </tr>\n",
       "    <tr>\n",
       "      <th>84</th>\n",
       "      <td>8.2110</td>\n",
       "      <td>35.278084</td>\n",
       "      <td>12.500000</td>\n",
       "      <td>2017</td>\n",
       "    </tr>\n",
       "    <tr>\n",
       "      <th>85</th>\n",
       "      <td>8.2110</td>\n",
       "      <td>35.278084</td>\n",
       "      <td>6.000000</td>\n",
       "      <td>2017</td>\n",
       "    </tr>\n",
       "    <tr>\n",
       "      <th>164</th>\n",
       "      <td>8.2220</td>\n",
       "      <td>35.337914</td>\n",
       "      <td>9.875000</td>\n",
       "      <td>2017</td>\n",
       "    </tr>\n",
       "    <tr>\n",
       "      <th>167</th>\n",
       "      <td>8.2220</td>\n",
       "      <td>35.337914</td>\n",
       "      <td>12.075000</td>\n",
       "      <td>2017</td>\n",
       "    </tr>\n",
       "    <tr>\n",
       "      <th>169</th>\n",
       "      <td>8.2220</td>\n",
       "      <td>35.337914</td>\n",
       "      <td>10.300000</td>\n",
       "      <td>2017</td>\n",
       "    </tr>\n",
       "    <tr>\n",
       "      <th>172</th>\n",
       "      <td>8.2220</td>\n",
       "      <td>35.337914</td>\n",
       "      <td>11.000000</td>\n",
       "      <td>2017</td>\n",
       "    </tr>\n",
       "    <tr>\n",
       "      <th>174</th>\n",
       "      <td>8.2225</td>\n",
       "      <td>35.287419</td>\n",
       "      <td>7.266667</td>\n",
       "      <td>2017</td>\n",
       "    </tr>\n",
       "    <tr>\n",
       "      <th>176</th>\n",
       "      <td>8.2225</td>\n",
       "      <td>35.287419</td>\n",
       "      <td>13.225000</td>\n",
       "      <td>2017</td>\n",
       "    </tr>\n",
       "    <tr>\n",
       "      <th>179</th>\n",
       "      <td>8.2225</td>\n",
       "      <td>35.287419</td>\n",
       "      <td>10.550000</td>\n",
       "      <td>2017</td>\n",
       "    </tr>\n",
       "    <tr>\n",
       "      <th>182</th>\n",
       "      <td>8.2220</td>\n",
       "      <td>35.331669</td>\n",
       "      <td>12.033333</td>\n",
       "      <td>2017</td>\n",
       "    </tr>\n",
       "    <tr>\n",
       "      <th>185</th>\n",
       "      <td>8.2230</td>\n",
       "      <td>35.374460</td>\n",
       "      <td>10.900000</td>\n",
       "      <td>2017</td>\n",
       "    </tr>\n",
       "    <tr>\n",
       "      <th>188</th>\n",
       "      <td>8.2230</td>\n",
       "      <td>35.374460</td>\n",
       "      <td>14.725000</td>\n",
       "      <td>2017</td>\n",
       "    </tr>\n",
       "    <tr>\n",
       "      <th>191</th>\n",
       "      <td>8.2230</td>\n",
       "      <td>35.247482</td>\n",
       "      <td>9.725000</td>\n",
       "      <td>2017</td>\n",
       "    </tr>\n",
       "    <tr>\n",
       "      <th>194</th>\n",
       "      <td>8.2230</td>\n",
       "      <td>35.341358</td>\n",
       "      <td>11.075000</td>\n",
       "      <td>2017</td>\n",
       "    </tr>\n",
       "    <tr>\n",
       "      <th>197</th>\n",
       "      <td>8.2230</td>\n",
       "      <td>35.390354</td>\n",
       "      <td>10.600000</td>\n",
       "      <td>2017</td>\n",
       "    </tr>\n",
       "    <tr>\n",
       "      <th>346</th>\n",
       "      <td>8.2165</td>\n",
       "      <td>35.114244</td>\n",
       "      <td>7.000000</td>\n",
       "      <td>2017</td>\n",
       "    </tr>\n",
       "    <tr>\n",
       "      <th>347</th>\n",
       "      <td>8.2165</td>\n",
       "      <td>35.112398</td>\n",
       "      <td>3.000000</td>\n",
       "      <td>2017</td>\n",
       "    </tr>\n",
       "    <tr>\n",
       "      <th>348</th>\n",
       "      <td>8.2165</td>\n",
       "      <td>35.112398</td>\n",
       "      <td>4.000000</td>\n",
       "      <td>2017</td>\n",
       "    </tr>\n",
       "    <tr>\n",
       "      <th>349</th>\n",
       "      <td>8.2160</td>\n",
       "      <td>35.117374</td>\n",
       "      <td>5.500000</td>\n",
       "      <td>2017</td>\n",
       "    </tr>\n",
       "    <tr>\n",
       "      <th>350</th>\n",
       "      <td>8.2160</td>\n",
       "      <td>35.117374</td>\n",
       "      <td>2.000000</td>\n",
       "      <td>2017</td>\n",
       "    </tr>\n",
       "    <tr>\n",
       "      <th>351</th>\n",
       "      <td>8.2160</td>\n",
       "      <td>35.117374</td>\n",
       "      <td>15.000000</td>\n",
       "      <td>2017</td>\n",
       "    </tr>\n",
       "    <tr>\n",
       "      <th>352</th>\n",
       "      <td>8.2160</td>\n",
       "      <td>35.117374</td>\n",
       "      <td>5.000000</td>\n",
       "      <td>2017</td>\n",
       "    </tr>\n",
       "    <tr>\n",
       "      <th>353</th>\n",
       "      <td>8.2165</td>\n",
       "      <td>35.149462</td>\n",
       "      <td>11.000000</td>\n",
       "      <td>2017</td>\n",
       "    </tr>\n",
       "    <tr>\n",
       "      <th>354</th>\n",
       "      <td>8.2160</td>\n",
       "      <td>35.270199</td>\n",
       "      <td>9.000000</td>\n",
       "      <td>2017</td>\n",
       "    </tr>\n",
       "    <tr>\n",
       "      <th>395</th>\n",
       "      <td>8.2400</td>\n",
       "      <td>35.276642</td>\n",
       "      <td>9.416667</td>\n",
       "      <td>2017</td>\n",
       "    </tr>\n",
       "    <tr>\n",
       "      <th>559</th>\n",
       "      <td>8.2120</td>\n",
       "      <td>35.204185</td>\n",
       "      <td>1.500000</td>\n",
       "      <td>2017</td>\n",
       "    </tr>\n",
       "    <tr>\n",
       "      <th>566</th>\n",
       "      <td>8.2400</td>\n",
       "      <td>35.301208</td>\n",
       "      <td>17.000000</td>\n",
       "      <td>2017</td>\n",
       "    </tr>\n",
       "    <tr>\n",
       "      <th>569</th>\n",
       "      <td>8.2400</td>\n",
       "      <td>35.301208</td>\n",
       "      <td>13.833333</td>\n",
       "      <td>2017</td>\n",
       "    </tr>\n",
       "    <tr>\n",
       "      <th>574</th>\n",
       "      <td>8.2400</td>\n",
       "      <td>35.301208</td>\n",
       "      <td>13.470000</td>\n",
       "      <td>2017</td>\n",
       "    </tr>\n",
       "  </tbody>\n",
       "</table>\n",
       "</div>"
      ],
      "text/plain": [
       "         PH  Salinity_mean      Depth  max_yr\n",
       "67   8.2150      35.100085  16.000000    2017\n",
       "68   8.2145      35.144927  10.000000    2017\n",
       "70   8.2150      35.101086  11.000000    2017\n",
       "71   8.2150      35.101086  11.000000    2017\n",
       "72   8.2150      35.101086   9.000000    2017\n",
       "73   8.2150      35.101086   9.000000    2017\n",
       "84   8.2110      35.278084  12.500000    2017\n",
       "85   8.2110      35.278084   6.000000    2017\n",
       "164  8.2220      35.337914   9.875000    2017\n",
       "167  8.2220      35.337914  12.075000    2017\n",
       "169  8.2220      35.337914  10.300000    2017\n",
       "172  8.2220      35.337914  11.000000    2017\n",
       "174  8.2225      35.287419   7.266667    2017\n",
       "176  8.2225      35.287419  13.225000    2017\n",
       "179  8.2225      35.287419  10.550000    2017\n",
       "182  8.2220      35.331669  12.033333    2017\n",
       "185  8.2230      35.374460  10.900000    2017\n",
       "188  8.2230      35.374460  14.725000    2017\n",
       "191  8.2230      35.247482   9.725000    2017\n",
       "194  8.2230      35.341358  11.075000    2017\n",
       "197  8.2230      35.390354  10.600000    2017\n",
       "346  8.2165      35.114244   7.000000    2017\n",
       "347  8.2165      35.112398   3.000000    2017\n",
       "348  8.2165      35.112398   4.000000    2017\n",
       "349  8.2160      35.117374   5.500000    2017\n",
       "350  8.2160      35.117374   2.000000    2017\n",
       "351  8.2160      35.117374  15.000000    2017\n",
       "352  8.2160      35.117374   5.000000    2017\n",
       "353  8.2165      35.149462  11.000000    2017\n",
       "354  8.2160      35.270199   9.000000    2017\n",
       "395  8.2400      35.276642   9.416667    2017\n",
       "559  8.2120      35.204185   1.500000    2017\n",
       "566  8.2400      35.301208  17.000000    2017\n",
       "569  8.2400      35.301208  13.833333    2017\n",
       "574  8.2400      35.301208  13.470000    2017"
      ]
     },
     "execution_count": 107,
     "metadata": {},
     "output_type": "execute_result"
    }
   ],
   "source": [
    "# View the dataframe \n",
    "sampling_2017"
   ]
  },
  {
   "cell_type": "code",
   "execution_count": 108,
   "metadata": {
    "deletable": false,
    "editable": false
   },
   "outputs": [
    {
     "data": {
      "text/html": [
       "<p><strong><pre style='display: inline;'>q10</pre></strong> passed! 💯</p>"
      ],
      "text/plain": [
       "q10 results: All test cases passed!"
      ]
     },
     "execution_count": 108,
     "metadata": {},
     "output_type": "execute_result"
    }
   ],
   "source": [
    "grader.check(\"q10\")"
   ]
  },
  {
   "cell_type": "markdown",
   "metadata": {
    "deletable": false,
    "editable": false
   },
   "source": [
    "## 11\n",
    "Use `iloc` to select rows 95 through 100 (including 100) in the 17th, 20th, and 28th columns and assign these values to a new variable called `subset`. View the new `subset` dataframe.\n",
    "\n",
    "HINT: the ouput columns should be `Salinity_mean`, `mean.npp` and `Current_vel_mean` (in that order!)."
   ]
  },
  {
   "cell_type": "code",
   "execution_count": null,
   "metadata": {
    "tags": [
     "otter_answer_cell"
    ]
   },
   "outputs": [],
   "source": [
    "subset = "
   ]
  },
  {
   "cell_type": "code",
   "execution_count": null,
   "metadata": {
    "tags": [
     "otter_answer_cell"
    ]
   },
   "outputs": [],
   "source": [
    "# View the dataframe\n",
    "subset"
   ]
  },
  {
   "cell_type": "code",
   "execution_count": null,
   "metadata": {
    "deletable": false,
    "editable": false
   },
   "outputs": [],
   "source": [
    "grader.check(\"q11\")"
   ]
  },
  {
   "cell_type": "markdown",
   "metadata": {
    "deletable": false,
    "editable": false
   },
   "source": [
    "<!-- BEGIN QUESTION -->\n",
    "\n",
    "## 12 \n",
    "\n",
    "Run `subset.isna()`. Explain what this code does and what the output represents."
   ]
  },
  {
   "cell_type": "markdown",
   "metadata": {
    "tags": [
     "otter_answer_cell"
    ]
   },
   "source": [
    "_Type your answer here, replacing this text._"
   ]
  },
  {
   "cell_type": "markdown",
   "metadata": {
    "deletable": false,
    "editable": false
   },
   "source": [
    "<!-- END QUESTION -->\n",
    "\n",
    "<!-- BEGIN QUESTION -->\n",
    "\n",
    "## 13\n",
    "Run `subset.isna().any()`. Explain in your own words what this code does and what the output represents. HINT: check the [documentation of `pandas.Sries.any`](https://pandas.pydata.org/docs/reference/api/pandas.Series.any.html).\n"
   ]
  },
  {
   "cell_type": "markdown",
   "metadata": {
    "tags": [
     "otter_answer_cell"
    ]
   },
   "source": [
    "_Type your answer here, replacing this text._"
   ]
  },
  {
   "cell_type": "markdown",
   "metadata": {
    "deletable": false,
    "editable": false
   },
   "source": [
    "<!-- END QUESTION -->\n",
    "\n",
    "## 14 \n",
    "\n",
    "Select the rows in `subset` that have NA in the `Current_vel_mean` column. Store your answer in the `subset_na` variable."
   ]
  },
  {
   "cell_type": "code",
   "execution_count": null,
   "metadata": {
    "jp-MarkdownHeadingCollapsed": true,
    "tags": [
     "otter_answer_cell"
    ]
   },
   "outputs": [],
   "source": [
    "subset_na = ..."
   ]
  },
  {
   "cell_type": "code",
   "execution_count": null,
   "metadata": {
    "tags": [
     "otter_answer_cell"
    ]
   },
   "outputs": [],
   "source": [
    "# View the dataframe \n",
    "subset_na"
   ]
  },
  {
   "cell_type": "code",
   "execution_count": null,
   "metadata": {
    "deletable": false,
    "editable": false
   },
   "outputs": [],
   "source": [
    "grader.check(\"q14\")"
   ]
  },
  {
   "cell_type": "markdown",
   "metadata": {
    "deletable": false,
    "editable": false
   },
   "source": [
    "---\n",
    "\n",
    "To double-check your work, the cell below will rerun all of the autograder tests."
   ]
  },
  {
   "cell_type": "code",
   "execution_count": null,
   "metadata": {
    "deletable": false,
    "editable": false
   },
   "outputs": [],
   "source": [
    "grader.check_all()"
   ]
  },
  {
   "cell_type": "code",
   "execution_count": null,
   "metadata": {},
   "outputs": [],
   "source": []
  }
 ],
 "metadata": {
  "kernelspec": {
   "display_name": "EDS220",
   "language": "python",
   "name": "eds220-env"
  },
  "language_info": {
   "codemirror_mode": {
    "name": "ipython",
    "version": 3
   },
   "file_extension": ".py",
   "mimetype": "text/x-python",
   "name": "python",
   "nbconvert_exporter": "python",
   "pygments_lexer": "ipython3",
   "version": "3.11.4"
  },
  "vscode": {
   "interpreter": {
    "hash": "fd47fb98a7ce7f6a10c657f2a810bfb9d752313f8f3dd9c5b44bfbb724ce30e0"
   }
  }
 },
 "nbformat": 4,
 "nbformat_minor": 4
}
